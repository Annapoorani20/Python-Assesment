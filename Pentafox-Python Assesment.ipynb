{
 "cells": [
  {
   "cell_type": "markdown",
   "metadata": {},
   "source": [
    "# 1\n",
    "\n",
    "A bicyclist cycles around a circular park with a pathway connecting two opposite end points of \n",
    "the path of length 7kms. Develop a logic that computes the total distance covered by the cyclist \n",
    "for a given set of rounds cycled."
   ]
  },
  {
   "cell_type": "code",
   "execution_count": 2,
   "metadata": {},
   "outputs": [
    {
     "name": "stdout",
     "output_type": "stream",
     "text": [
      "10\n",
      "440.0 Kms travelled.\n"
     ]
    }
   ],
   "source": [
    "r=int(input())\n",
    "print(r*2*(22/7)*7,\"Kms travelled.\")"
   ]
  },
  {
   "cell_type": "markdown",
   "metadata": {},
   "source": [
    "# 2\n",
    "\n",
    "A fixed set of positive integers is dictated by the mathematics professor during a puzzle contest. \n",
    "The professor asks the students to find a pair of numbers that result in a given sum. Code a \n",
    "logic that can automate this puzzle. Use the below input for your exercise."
   ]
  },
  {
   "cell_type": "code",
   "execution_count": 3,
   "metadata": {},
   "outputs": [
    {
     "name": "stdout",
     "output_type": "stream",
     "text": [
      "1 2 3 26\n",
      "6\n",
      "No Pairs found\n"
     ]
    }
   ],
   "source": [
    "l=list(map(int,input().split()))\n",
    "sum=int(input())\n",
    "f=True\n",
    "for i in range(len(l)):\n",
    "    for j in range(i+1,len(l)-1):\n",
    "        if sum==l[i]+l[j]:\n",
    "            print(l[i],\",\",l[j])\n",
    "            f=False\n",
    "            break\n",
    "if f:\n",
    "    print(\"No Pairs found\")      \n",
    "       "
   ]
  },
  {
   "cell_type": "markdown",
   "metadata": {},
   "source": [
    "# 3\n",
    "\n",
    "Alice is a cryptanalyst who is in charge of transmitting messages to bob without any intruder \n",
    "getting hands on it. Alice thinks of transmitting the message by reversing it with a random \n",
    "character appended as prefix to the encoded message."
   ]
  },
  {
   "cell_type": "code",
   "execution_count": 4,
   "metadata": {},
   "outputs": [
    {
     "name": "stdout",
     "output_type": "stream",
     "text": [
      "Pentafox\n",
      "OxofatneP\n"
     ]
    }
   ],
   "source": [
    "s=input()\n",
    "print('O'+s[::-1])"
   ]
  },
  {
   "cell_type": "markdown",
   "metadata": {},
   "source": [
    "# 4\n",
    "\n",
    "As a computer engineer, you are requested to reduce the storage space needed to store the \n",
    "textual content in the computer. Write a logic that can compress the content as given in the \n",
    "below example."
   ]
  },
  {
   "cell_type": "code",
   "execution_count": 5,
   "metadata": {},
   "outputs": [
    {
     "name": "stdout",
     "output_type": "stream",
     "text": [
      "All is Well\n",
      "Al2 is Wel2\n"
     ]
    }
   ],
   "source": [
    "s=input()\n",
    "a=''\n",
    "count=1\n",
    "for i in range(len(s)-1):\n",
    "    if s[i]==s[i+1]:\n",
    "        count+=1\n",
    "    else:\n",
    "        if count==1:\n",
    "            a+=s[i]\n",
    "        elif count>1:\n",
    "            a+=s[i]+str(count)\n",
    "            count=1\n",
    "    if i+1==len(s)-1 and count>1:\n",
    "        a+=s[i+1]+str(count)\n",
    "    elif i+1==len(s)-1:\n",
    "        a+=s[i+1]\n",
    "print(a)"
   ]
  },
  {
   "cell_type": "markdown",
   "metadata": {},
   "source": [
    "# 5\n",
    "\n",
    "In a puzzle contest, the chairman of your English club posts a problem to compare a given pair \n",
    "of words and eliminate all common characters in them. To speed up the process of judging, the \n",
    "computer club head was requested to prepare computer logic. Please code a solution to the \n",
    "above problem applying your own skillset.\n"
   ]
  },
  {
   "cell_type": "code",
   "execution_count": 6,
   "metadata": {},
   "outputs": [
    {
     "name": "stdout",
     "output_type": "stream",
     "text": [
      "Rajesh \n",
      "Ganesh\n",
      "RjGn\n"
     ]
    }
   ],
   "source": [
    "s1=input()\n",
    "s2=input()\n",
    "print(s1[0]+s1[2]+s2[0]+s2[2])"
   ]
  },
  {
   "cell_type": "markdown",
   "metadata": {},
   "source": [
    "# 7\n",
    "\n",
    "The alphabetical value is represented from 1-26 for characters A-Z respectively. Using this \n",
    "principle generate a crypto decoder that can generate the message for transmitted sequence of \n",
    "alphabetical values"
   ]
  },
  {
   "cell_type": "code",
   "execution_count": null,
   "metadata": {},
   "outputs": [],
   "source": [
    "l=list(map(int,input().split()))\n",
    "s=''\n",
    "l1=[]\n",
    "for i in l:\n",
    "    s+=chr(i)\n",
    "print(s)"
   ]
  },
  {
   "cell_type": "code",
   "execution_count": null,
   "metadata": {},
   "outputs": [],
   "source": []
  }
 ],
 "metadata": {
  "kernelspec": {
   "display_name": "Python 3",
   "language": "python",
   "name": "python3"
  },
  "language_info": {
   "codemirror_mode": {
    "name": "ipython",
    "version": 3
   },
   "file_extension": ".py",
   "mimetype": "text/x-python",
   "name": "python",
   "nbconvert_exporter": "python",
   "pygments_lexer": "ipython3",
   "version": "3.8.3"
  }
 },
 "nbformat": 4,
 "nbformat_minor": 4
}
